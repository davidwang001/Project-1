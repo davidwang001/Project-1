{
 "metadata": {
  "name": "Stat 157 Project 1"
 },
 "nbformat": 3,
 "nbformat_minor": 0,
 "worksheets": [
  {
   "cells": [
    {
     "cell_type": "heading",
     "level": 2,
     "metadata": {},
     "source": "Group 8:\nDavid Wang\nTristan Tao\nBonghyun Kim\nSung Hoon Choi\nHyungkyu Chang\n"
    },
    {
     "cell_type": "heading",
     "level": 3,
     "metadata": {},
     "source": "Introduction: "
    },
    {
     "cell_type": "markdown",
     "metadata": {},
     "source": "<strong>Objective:</strong> Try to find meaningful patterns from the Statistics 135 Questionnaire data\n\nData found at - https://docs.google.com/a/berkeley.edu/spreadsheet/ccc?key=0Aj1QXjQixf-SdENDS1FzR1FGNE1kLUk0WGR1SW5peVE#gid=0\n\nOur group focused on <i>two specific</i> categories within the statistics 135 questionnaire data:\n\n1. <strong>Learning Preference:</strong> Given four categories (Visual, Aural, Kinesthetic, Read/Write), students gave a score for how much they liked or disliked a certain learning style. \n\n2. <strong>Known Computer Languages:</strong> Students listed all known computer science languages such as C++, Java, and Python.\n"
    },
    {
     "cell_type": "heading",
     "level": 3,
     "metadata": {},
     "source": "Data Curation: "
    },
    {
     "cell_type": "markdown",
     "metadata": {},
     "source": "Tristan's main role was to take the data from the original spreadsheet, and extract the relevant portions. Using the code shown below, he was able to create a matrix of learning preference values in relation to known computer science languages.\n\nThe code for data curation is shown below: \n"
    },
    {
     "cell_type": "heading",
     "level": 4,
     "metadata": {},
     "source": "Step 1: Importing crucial python libraries and creating relevant functions"
    },
    {
     "cell_type": "code",
     "collapsed": false,
     "input": "import gspread\nimport re\nimport csv\n\n\ndef return_row(form, header):\n    #Given a form and a header, returns the a list representing the column\n    #throws InputError if header is not found\n    response_data = form.get_all_values() #The entire data set\n    try:\n        index = response_data[0].index(header)\n    except ValueErro as vE:\n        raise LookupError(\"Could not find matching Column\")\n    #res = [col[1:] for col in response_data if col[0] == header]\n    res = form.col_values(index+1)\n    return res\n    \ndef add_incr_dict(dic, key):\n    #Given a dict, increments the value of the key\n    #Initializes value at 1, if the key is new.\n    if key in dic:\n        dic[key] = dic[key] + 1\n    else:\n        dic[key] = 1",
     "language": "python",
     "metadata": {},
     "outputs": []
    },
    {
     "cell_type": "heading",
     "level": 4,
     "metadata": {},
     "source": "Step 2: Looking into Google Doc and grabbing the form"
    },
    {
     "cell_type": "code",
     "collapsed": false,
     "input": "login = 'USER@berkeley.edu'\npassword = 'SEXY_SECRET'\n\ngc = gspread.login(login, password)\n#open up the google doc\nsheet=gc.open(\"Copy of Stat 157 Questionnaire (Results Redacted)\")\n#the following should also work\n#sht2 = gc.open_by_url('https://docs.google.com/a/berkeley.edu/spreadsheet/ccc?key=0Aj1QXjQixf-SdENDS1FzR1FGNE1kLUk0WGR1SW5peVE#gid=0')\n\nform=sheet.worksheet(\"Form Responses\")",
     "language": "python",
     "metadata": {},
     "outputs": []
    },
    {
     "cell_type": "heading",
     "level": 4,
     "metadata": {},
     "source": "Step 3: Grab learning style and save it in list"
    },
    {
     "cell_type": "code",
     "collapsed": false,
     "input": "learning_style = return_row(form, \"What is your learning style?\")\nstyle_val = ['visual', 'aural', 'read/write', 'kinesthetic']\n\n#The regex compilation found at: http://stackoverflow.com/questions/5323703/regex-how-to-match-sequence-of-key-value-pairs-at-end-of-string\n#Use the regex to grab the <k:v> format, which is how the response data is formatted\nstyle_regex = re.compile(r'''\n    \\n                     # all key-value pairs are on separate lines\n    (                      # start group to return\n       (?:{0}):            # placeholder for tags to detect '\\S+' == all\n        \\s                 # the space between ':' and value\n       .*                  # the value\n    )                      # end group to return\n    '''.format('|'.join(style_val)), re.VERBOSE)\n\nstyle_response_list = []\nfor style in learning_style:\n    if style == None:\n        style_response_list.append(\"\")\n        continue #adding None to even the list\n    style = style.lower()\n    m = style_regex.findall(style)\n    style_response_list.append(m)",
     "language": "python",
     "metadata": {},
     "outputs": []
    },
    {
     "cell_type": "heading",
     "level": 4,
     "metadata": {},
     "source": "Step 4: Grab known languages and save it in list"
    },
    {
     "cell_type": "code",
     "collapsed": false,
     "input": "known_language = return_row(form, \"What computer language(s) do you know?\")\nmaster_language_list = []\nfor language_list in known_language:\n    #print language_list\n    master_language_list.append(language_list)\n \nprint len(master_language_list)\nprint len(style_response_list)\n\n#language_hash.pop(\"What computer language(s) do you know?\")\ndef index_containing_substring(the_list, substring):\n    for i, s in enumerate(the_list):\n        if substring in s:\n              return i\n    return -1\ndef find_index(style):\n    #Given a style, returns a list of indices of corresponding vlaues\n    #['visual', 'aural', 'read/write', 'kinesthetic']\n    res = []\n    for i, s in enumerate(['visual', 'aural', 'read/write', 'kinesthetic']):\n        res.append(index_containing_substring(style, s))\n    return res\n",
     "language": "python",
     "metadata": {},
     "outputs": []
    },
    {
     "cell_type": "heading",
     "level": 4,
     "metadata": {},
     "source": "Step 5: Combine data and output to csv"
    },
    {
     "cell_type": "code",
     "collapsed": false,
     "input": "out_file = open(\"cleaned_data.csv\", \"wb\")\nc = csv.writer(out_file)\nc.writerow(['language', 'visual', 'aural', 'read/write', 'kinesthetic'])\n\nfor index in xrange(0,len(style_response_list)):\n    style = style_response_list[index]\n    language = master_language_list[index]\n    if len(style) > 0:\n        indices = find_index(style)\n        vis_index = indices[0]\n        aural_index = indices[1]\n        r_w_index = indices[2]\n        kin_index = indices[3]\n        if vis_index != -1:\n            vis = int(style[vis_index].replace(\"visual:\", \"\").strip())\n        else:\n            vis = \"\"\n        if aural_index != -1:\n            aural = int(style[aural_index].replace(\"aural:\", \"\").strip())\n        else:\n            aural = \"\"\n        if r_w_index != -1:\n            r_w = int(style[r_w_index].replace(\"read/write:\", \"\").strip())\n        else:\n            r_w = \"\"\n        if kin_index != -1:\n            kin = int(style[kin_index].replace(\"kinesthetic:\", \"\").strip())\n        else:\n            kin = \"\"\n    else:\n        vis = \"\"\n        aural = \"\"\n        r_w = \"\"\n        kin = \"\"\n    c.writerow([language, vis, aural, r_w, kin])\n\nout_file.close()\n",
     "language": "python",
     "metadata": {},
     "outputs": []
    },
    {
     "cell_type": "heading",
     "level": 3,
     "metadata": {},
     "source": "Data Analysis: "
    },
    {
     "cell_type": "markdown",
     "metadata": {},
     "source": "The next step was handled by Bonghyun, who took the well formatted data Tristan created and condensed the information. We decided to show average ratings of learning type across all computer science languages and conduct an ANOVA analysis.\n"
    },
    {
     "cell_type": "heading",
     "level": 4,
     "metadata": {},
     "source": "ANOVA Analysis:"
    },
    {
     "cell_type": "markdown",
     "metadata": {},
     "source": "<strong>Definition:</strong> Using variance to estimate the effect of a given factor.\n\n<strong>Example:</strong> http://web.mst.edu/~psyworld/anovaexample.htm\n\nThis part of the project was completed using R and RStudio. Steps on how to download R are listed below."
    },
    {
     "cell_type": "heading",
     "level": 4,
     "metadata": {},
     "source": "Installing R: "
    },
    {
     "cell_type": "markdown",
     "metadata": {},
     "source": "1. Go to http://cran.cnr.berkeley.edu/\n2. Choose the link for your respective system (Windows, OS X, Unix-alikes)\n3. Navigate through the website until you find a download link for 3.02\n\nAdditional Steps to run RStudio:\n\n4. To download an integrated development environment, download RStudio at http://www.rstudio.com/ide/download/desktop\n5. R code will now run in RStudio\n"
    },
    {
     "cell_type": "heading",
     "level": 4,
     "metadata": {},
     "source": "Step 1: Load csv file and create a workable data frame"
    },
    {
     "cell_type": "code",
     "collapsed": false,
     "input": "#Code is in R\n\n#Load the csv file\ncleaned_data <- read.csv(\"~/Desktop/cleaned_data_2.csv\")\n#Ignore rows with no learning data\nlanguageLearning = cleaned_data[!is.na(cleaned_data$visual),]\n\n#Make new data frame by breaking down list of languages\nlanguage = c()\nvisual = c()\naural = c()\nrw = c()\nkin = c()\nfor (i in 1:nrow(languageLearning)) {\n  lArray = strsplit(as.character(languageLearning[i,1]), \",\")[[1]]  \n  for (word in lArray) {\n    language = append(language,gsub(\" \",\"\",word, fixed=TRUE))\n    visual = append(visual, languageLearning[i,2])\n    aural = append(aural, languageLearning[i,3])\n    rw = append(rw, languageLearning[i,4])\n    kin = append(kin, languageLearning[i,5])\n  }\n}\ncleaned_data_3 = data.frame(language, visual, aural, rw, kin)",
     "language": "python",
     "metadata": {},
     "outputs": []
    },
    {
     "cell_type": "heading",
     "level": 4,
     "metadata": {},
     "source": "Step 2: Calculate Learning Score Averages and Conduct ANOVA Analysis"
    },
    {
     "cell_type": "code",
     "collapsed": false,
     "input": "#Aggregate the data to group the learning data by their average\navgLearning = aggregate(cleaned_data_3[,2:5], list(cleaned_data_3[,1]), FUN = mean)\n#Writes it out to a new CSV file\nwrite.csv(avgLearning, \"~/Desktop/languageLearning.csv\", row.names = F)\n\n#Creates new data frame to do ANOVA analysis\nratings = c(visual,aural,rw,kin)\ntypes = c(rep(\"visual\",100),rep(\"aural\",100),rep(\"rw\",100),rep(\"kin\",100))\nlanguages = rep(languageLearning$language,4)\n\n#Performs ANOVA Analysis\nllAnalysis = data.frame(r = ratings, t = types, l = languages)\nfit = aov(r ~ t * l, data = llAnalysis)\nsummary(fit)",
     "language": "python",
     "metadata": {},
     "outputs": []
    },
    {
     "cell_type": "heading",
     "level": 4,
     "metadata": {},
     "source": "Findings:"
    },
    {
     "cell_type": "code",
     "collapsed": false,
     "input": "#Df                        Sum Sq Mean Sq     F value  Pr(>F)   \n#types                      3   93.3  31.113   4.350 0.00503 **\n#languages                 13  136.4  10.495   1.467 0.12757   \n#types:languages           39  235.9   6.049   0.846 0.73278   \n#Residuals                344 2460.7   7.153                   \n#---\n#Signif. codes:  0 \u00e2\u0080\u0098***\u00e2\u0080\u0099 0.001 \u00e2\u0080\u0098**\u00e2\u0080\u0099 0.01 \u00e2\u0080\u0098*\u00e2\u0080\u0099 0.05 \u00e2\u0080\u0098.\u00e2\u0080\u0099 0.1 \u00e2\u0080\u0098 \u00e2\u0080\u0099 1 \n#######\n#Analysis\n#ANOVA test shows that using difference you get from combination of types and\n#languages are not significant. Thus, it doesn't show that there's correlation\n#between two factors.              ",
     "language": "python",
     "metadata": {},
     "outputs": []
    },
    {
     "cell_type": "heading",
     "level": 3,
     "metadata": {},
     "source": "Visualization:"
    },
    {
     "cell_type": "heading",
     "level": 4,
     "metadata": {},
     "source": "\nFirst Graph - Average Ratings Across Learning Styles for Each Computer Language"
    },
    {
     "cell_type": "markdown",
     "metadata": {},
     "source": "<img src=\"https://github.com/davidwang001/Project-1/blob/42f89a61835008cc9f527d5d54c858d25bea159a/dotchart.png\">"
    },
    {
     "cell_type": "heading",
     "level": 4,
     "metadata": {},
     "source": "Second Graph - Number of Times Each Learning Style is Most Prefered Across Computer Languages"
    },
    {
     "cell_type": "markdown",
     "metadata": {},
     "source": "<img src=\"https://github.com/davidwang001/Project-1/blob/42f89a61835008cc9f527d5d54c858d25bea159a/barchart.png\">"
    },
    {
     "cell_type": "markdown",
     "metadata": {},
     "source": "\n<strong> Analysis: </strong> The computer languages students are familiar with do not seem to depend on their learning styles. All the average ratings seem to hover in a range between 7 and 10, although an argument could be made regarding SQL, which is extremely popular amongst visual learners. However, the dotplot shows a vague relationship between the location of dots. The blue dots, representing aural learning style, are mostly located on the far right, with black (read and write), green (visual), and red (kinesthetic) dots typically proceding it. This relationship also agrees with the bar chart, which shows that most students are either visual or kinesthetic learners (green and red).\n\n<strong> Code for both graphs: </strong>"
    },
    {
     "cell_type": "code",
     "collapsed": false,
     "input": "#Code is in R\n\n#Define Variables\nlanguages <- c(\"C\", \"C++\", \"CSS\", \"HTML\", \"Java\", \"Javascript\", \"Matlab\", \"PHP\", \"Python\", \"R\", \"SQL\", \"Scala\", \"Scheme\", \"XML\")\nvisual <- c(9, 9, 8.67, 8.86, 8.36, 9, 8.88, 10, 7.43, 7.83, 15, 9, 7.75, 9.27)\naural <- c(7.83, 8.14, 7, 7.14, 8.55, 7, 7.38, 7, 7.29, 7.35, 9, 7, 9, 7.45)\nrw <- c(9.17, 7.29, 9.33, 8.14, 7.82, 10, 8.38, 11, 8.57, 7.78, 6, 10, 4.25, 6.82)\nkin <- c(10, 8.86, 9.67, 8.43, 9.18, 12, 10.38, 7, 9.29, 7.82, 11, 12, 6, 8.27)\n\n#Dotchart of learning style average scores across computer science languages\ndotchart(kin, languages, col=\"red\", xlim = c(5, 15))\npar(new=TRUE)\ndotchart(visual, languages, col=\"green\", xlim = c(5,15))\npar(new=TRUE)\ndotchart(aural, languages, col=\"blue\", xlim = c(5,15))\npar(new=TRUE)\ndotchart(rw, languages, col=\"black\", xlim = c(5,15), main = \"Languages vs. Learning Style\", xlab = \"Average Score\")\n\n#Barchart of highest rated learning style frequency\nLS <- c(\"Visual\", \"Aural\", \"Read/Write\", \"Kinesthetic\")\ntimes <- c(4.5, 1, 1, 7.5)\ncolors = c(\"green\", \"blue\", \"black\", \"red\")\nbarplot(times, width = 0.5, main = \"Frequecy of Highest Rated Learning Styles\", names.arg = LS, col = colors, ylab = \"Frequency\")",
     "language": "python",
     "metadata": {},
     "outputs": []
    },
    {
     "cell_type": "heading",
     "level": 3,
     "metadata": {},
     "source": "Major Roadblocks:\n"
    },
    {
     "cell_type": "markdown",
     "metadata": {},
     "source": "I. Matching timelines for all team members\n\nResolution: Started a facebook chat so lingering members could read offline messages and catch up. Set up github page to share code.\n\nII. Making sure skill sets were correctly and completely suited for tasks at hand\n\nResolution: Helped each other with programming or statistics related difficulties across previously defined roles. Ex. The entire group brainstormed meaningful and practical ways of analyzing the data to aid Bonghyun.\n\nIII. Figuring out how to push final version to Github.\n\nResolution: Saved files into local repository folder, committed changes, and synched with global repository.\n\nIV. Making images show up in IPython Notebook\n\nResolution: Instead of linking to files, we linked to URLs.\n"
    },
    {
     "cell_type": "heading",
     "level": 3,
     "metadata": {},
     "source": "Credits:"
    },
    {
     "cell_type": "markdown",
     "metadata": {},
     "source": "In our efforts, the following resources helped us along the way, and hopefully they can offer you some guidance in reproducing our results.\n\n1. Formatting IPython\n\nhttp://nbviewer.ipython.org/url/github.com/ipython/ipython/raw/master/examples/notebooks/Part%204%20-%20Markdown%20Cells.ipynb\n\n2. Making IPython into a slideshow\n\nhttp://www.damian.oquanta.info/posts/make-your-slides-with-ipython.html\n"
    }
   ],
   "metadata": {}
  }
 ]
}